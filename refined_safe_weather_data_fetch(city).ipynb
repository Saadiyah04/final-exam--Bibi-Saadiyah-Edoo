{
  "nbformat": 4,
  "nbformat_minor": 0,
  "metadata": {
    "colab": {
      "provenance": [],
      "authorship_tag": "ABX9TyN+yAi3+MzwH0pFh1MVH3B4",
      "include_colab_link": true
    },
    "kernelspec": {
      "name": "python3",
      "display_name": "Python 3"
    },
    "language_info": {
      "name": "python"
    }
  },
  "cells": [
    {
      "cell_type": "markdown",
      "metadata": {
        "id": "view-in-github",
        "colab_type": "text"
      },
      "source": [
        "<a href=\"https://colab.research.google.com/github/Saadiyah04/final-exam--Bibi-Saadiyah-Edoo/blob/main/refined_safe_weather_data_fetch(city).ipynb\" target=\"_parent\"><img src=\"https://colab.research.google.com/assets/colab-badge.svg\" alt=\"Open In Colab\"/></a>"
      ]
    },
    {
      "cell_type": "code",
      "execution_count": 17,
      "metadata": {
        "id": "4c8Xj-UwrnHy"
      },
      "outputs": [],
      "source": []
    },
    {
      "cell_type": "markdown",
      "source": [],
      "metadata": {
        "id": "uxLHdrGjCLUE"
      }
    },
    {
      "cell_type": "code",
      "execution_count": 18,
      "metadata": {
        "id": "alGV6LeyCMqH"
      },
      "outputs": [],
      "source": [
        "import requests\n",
        "\n",
        "def refined_safe_weather_data_fetch(city):\n",
        "    \"\"\"\n",
        "    Fetch weather data with basic error handling - Week 8 style\n",
        "\n",
        "    >>> refined_safe_weather_data_fetch(\"\")\n",
        "    Error: City name cannot be empty\n",
        "    >>> refined_safe_weather_data_fetch(\"InvalidCity123\")  # doctest: +SKIP\n",
        "    Error: Could not connect to weather service\n",
        "    \"\"\"\n",
        "    if not city:\n",
        "        print(\"Error: City name cannot be empty\")\n",
        "        return None\n",
        "\n",
        "    try:\n",
        "        url = f\"http://wttr.in/{city}?format=j1\"\n",
        "        response = requests.get(url)\n",
        "        data = response.json()\n",
        "\n",
        "        try:\n",
        "            weather_info = {\n",
        "                'city': city,\n",
        "                'temperature': data['current_condition'][0]['temp_C'],\n",
        "                'wind_speed': data['current_condition'][0]['windspeedKmph'],\n",
        "                'description': data['current_condition'][0]['weatherDesc'][0]['value']\n",
        "            }\n",
        "            return weather_info\n",
        "        except:\n",
        "            print(\"Error: Could not extract weather data from response\")\n",
        "            return None\n",
        "\n",
        "    except:\n",
        "        print(\"Error: Could not connect to weather service\")\n",
        "        return None"
      ]
    },
    {
      "cell_type": "code",
      "source": [],
      "metadata": {
        "id": "hj9I19DX9_OY"
      },
      "execution_count": null,
      "outputs": []
    }
  ]
}