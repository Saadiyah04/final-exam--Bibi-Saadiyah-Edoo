{
  "nbformat": 4,
  "nbformat_minor": 0,
  "metadata": {
    "colab": {
      "provenance": [],
      "authorship_tag": "ABX9TyMUZh/d1ZSSLoXXceKWjOCS",
      "include_colab_link": true
    },
    "kernelspec": {
      "name": "python3",
      "display_name": "Python 3"
    },
    "language_info": {
      "name": "python"
    }
  },
  "cells": [
    {
      "cell_type": "markdown",
      "metadata": {
        "id": "view-in-github",
        "colab_type": "text"
      },
      "source": [
        "<a href=\"https://colab.research.google.com/github/Saadiyah04/final-exam--Bibi-Saadiyah-Edoo/blob/main/Section_4_1.ipynb\" target=\"_parent\"><img src=\"https://colab.research.google.com/assets/colab-badge.svg\" alt=\"Open In Colab\"/></a>"
      ]
    },
    {
      "cell_type": "code",
      "execution_count": null,
      "metadata": {
        "id": "T_buADneNHE-"
      },
      "outputs": [],
      "source": []
    },
    {
      "cell_type": "markdown",
      "source": [
        "def display_menu():\n",
        "    \"\"\"\n",
        "    Display menu options - Week 3 formatting style\n",
        "\n",
        "    >>> display_menu()  # doctest: +SKIP\n",
        "    1. Add task\n",
        "    2. List tasks\n",
        "    3. Remove task\n",
        "    4. Quit\n",
        "    \"\"\"\n",
        "    print(\"1. Add task\")\n",
        "    print(\"2. List tasks\")\n",
        "    print(\"3. Remove task\")\n",
        "    print(\"4. Quit\")\n",
        "\n",
        "def get_user_choice():\n",
        "    \"\"\"\n",
        "    Get and validate user choice (1–4) - Week 6 input validation\n",
        "\n",
        "    Function requires interactive input; skip doctest.\n",
        "\n",
        "    >>> # doctest: +SKIP\n",
        "    \"\"\"\n",
        "    while True:\n",
        "        choice = input(\"Enter your choice (1-4): \")\n",
        "        if choice in [\"1\", \"2\", \"3\", \"4\"]:\n",
        "            return int(choice)\n",
        "        else:\n",
        "            print(\"Invalid input. Please enter a number between 1 and 4.\")\n",
        "\n",
        "def main():\n",
        "    \"\"\"\n",
        "    Main program loop - applies Week 5 while loop and logic\n",
        "    \"\"\"\n",
        "    tasks = []  # Week 5: list to store tasks\n",
        "\n",
        "    while True:\n",
        "        display_menu()\n",
        "        choice = get_user_choice()\n",
        "\n",
        "        if choice == 1:\n",
        "            task = input(\"Enter a new task: \")\n",
        "            tasks.append(task)\n",
        "            print(f\"Task added: {task}\")\n",
        "        elif choice == 2:\n",
        "            if tasks:\n",
        "                print(\"Your Tasks:\")\n",
        "                for i, task in enumerate(tasks, 1):\n",
        "                    print(f\"{i}. {task}\")\n",
        "            else:\n",
        "                print(\"No tasks found.\")\n",
        "        elif choice == 3:\n",
        "            if tasks:\n",
        "                try:\n",
        "                    index = int(input(\"Enter the task number to remove: \")) - 1\n",
        "                    if 0 <= index < len(tasks):\n",
        "                        removed = tasks.pop(index)\n",
        "                        print(f\"Task removed: {removed}\")\n",
        "                    else:\n",
        "                        print(\"Invalid task number.\")\n",
        "                except:\n",
        "                    print(\"Invalid input. Please enter a number.\")\n",
        "            else:\n",
        "                print(\"No tasks to remove.\")\n",
        "        elif choice == 4:\n",
        "            print(\"Goodbye! 👋\")\n",
        "            break\n"
      ],
      "metadata": {
        "id": "Ayw4De7pNH5m"
      }
    }
  ]
}